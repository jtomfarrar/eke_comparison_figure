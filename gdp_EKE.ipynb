{
 "cells": [
  {
   "cell_type": "code",
   "execution_count": 2,
   "metadata": {},
   "outputs": [],
   "source": [
    "import numpy as np\n",
    "import xarray as xr\n",
    "import matplotlib.pyplot as plt\n",
    "import gcsfs\n",
    "import dask.dataframe as ddf\n",
    "plt.rcParams['figure.figsize'] = (15,10)\n",
    "%matplotlib inline"
   ]
  },
  {
   "cell_type": "code",
   "execution_count": 32,
   "metadata": {},
   "outputs": [
    {
     "data": {
      "text/html": [
       "<div><strong>Dask DataFrame Structure:</strong></div>\n",
       "<div>\n",
       "<style scoped>\n",
       "    .dataframe tbody tr th:only-of-type {\n",
       "        vertical-align: middle;\n",
       "    }\n",
       "\n",
       "    .dataframe tbody tr th {\n",
       "        vertical-align: top;\n",
       "    }\n",
       "\n",
       "    .dataframe thead th {\n",
       "        text-align: right;\n",
       "    }\n",
       "</style>\n",
       "<table border=\"1\" class=\"dataframe\">\n",
       "  <thead>\n",
       "    <tr style=\"text-align: right;\">\n",
       "      <th></th>\n",
       "      <th>time</th>\n",
       "      <th>id</th>\n",
       "      <th>lat</th>\n",
       "      <th>lon</th>\n",
       "      <th>temp</th>\n",
       "      <th>ve</th>\n",
       "      <th>vn</th>\n",
       "      <th>spd</th>\n",
       "      <th>var_lat</th>\n",
       "      <th>var_lon</th>\n",
       "      <th>var_tmp</th>\n",
       "    </tr>\n",
       "    <tr>\n",
       "      <th>npartitions=73</th>\n",
       "      <th></th>\n",
       "      <th></th>\n",
       "      <th></th>\n",
       "      <th></th>\n",
       "      <th></th>\n",
       "      <th></th>\n",
       "      <th></th>\n",
       "      <th></th>\n",
       "      <th></th>\n",
       "      <th></th>\n",
       "      <th></th>\n",
       "    </tr>\n",
       "  </thead>\n",
       "  <tbody>\n",
       "    <tr>\n",
       "      <th></th>\n",
       "      <td>datetime64[ns]</td>\n",
       "      <td>int64</td>\n",
       "      <td>float64</td>\n",
       "      <td>float64</td>\n",
       "      <td>float64</td>\n",
       "      <td>float64</td>\n",
       "      <td>float64</td>\n",
       "      <td>float64</td>\n",
       "      <td>float64</td>\n",
       "      <td>float64</td>\n",
       "      <td>float64</td>\n",
       "    </tr>\n",
       "    <tr>\n",
       "      <th></th>\n",
       "      <td>...</td>\n",
       "      <td>...</td>\n",
       "      <td>...</td>\n",
       "      <td>...</td>\n",
       "      <td>...</td>\n",
       "      <td>...</td>\n",
       "      <td>...</td>\n",
       "      <td>...</td>\n",
       "      <td>...</td>\n",
       "      <td>...</td>\n",
       "      <td>...</td>\n",
       "    </tr>\n",
       "    <tr>\n",
       "      <th>...</th>\n",
       "      <td>...</td>\n",
       "      <td>...</td>\n",
       "      <td>...</td>\n",
       "      <td>...</td>\n",
       "      <td>...</td>\n",
       "      <td>...</td>\n",
       "      <td>...</td>\n",
       "      <td>...</td>\n",
       "      <td>...</td>\n",
       "      <td>...</td>\n",
       "      <td>...</td>\n",
       "    </tr>\n",
       "    <tr>\n",
       "      <th></th>\n",
       "      <td>...</td>\n",
       "      <td>...</td>\n",
       "      <td>...</td>\n",
       "      <td>...</td>\n",
       "      <td>...</td>\n",
       "      <td>...</td>\n",
       "      <td>...</td>\n",
       "      <td>...</td>\n",
       "      <td>...</td>\n",
       "      <td>...</td>\n",
       "      <td>...</td>\n",
       "    </tr>\n",
       "    <tr>\n",
       "      <th></th>\n",
       "      <td>...</td>\n",
       "      <td>...</td>\n",
       "      <td>...</td>\n",
       "      <td>...</td>\n",
       "      <td>...</td>\n",
       "      <td>...</td>\n",
       "      <td>...</td>\n",
       "      <td>...</td>\n",
       "      <td>...</td>\n",
       "      <td>...</td>\n",
       "      <td>...</td>\n",
       "    </tr>\n",
       "  </tbody>\n",
       "</table>\n",
       "</div>\n",
       "<div>Dask Name: read-parquet, 73 tasks</div>"
      ],
      "text/plain": [
       "Dask DataFrame Structure:\n",
       "                          time     id      lat      lon     temp       ve       vn      spd  var_lat  var_lon  var_tmp\n",
       "npartitions=73                                                                                                        \n",
       "                datetime64[ns]  int64  float64  float64  float64  float64  float64  float64  float64  float64  float64\n",
       "                           ...    ...      ...      ...      ...      ...      ...      ...      ...      ...      ...\n",
       "...                        ...    ...      ...      ...      ...      ...      ...      ...      ...      ...      ...\n",
       "                           ...    ...      ...      ...      ...      ...      ...      ...      ...      ...      ...\n",
       "                           ...    ...      ...      ...      ...      ...      ...      ...      ...      ...      ...\n",
       "Dask Name: read-parquet, 73 tasks"
      ]
     },
     "execution_count": 32,
     "metadata": {},
     "output_type": "execute_result"
    }
   ],
   "source": [
    "path = 'gs://pangeo-data/NOAA_buoydata.parquet'\n",
    "\n",
    "df = ddf.read_parquet(path)\n",
    "df"
   ]
  },
  {
   "cell_type": "code",
   "execution_count": 35,
   "metadata": {},
   "outputs": [
    {
     "data": {
      "text/html": [
       "<div>\n",
       "<style scoped>\n",
       "    .dataframe tbody tr th:only-of-type {\n",
       "        vertical-align: middle;\n",
       "    }\n",
       "\n",
       "    .dataframe tbody tr th {\n",
       "        vertical-align: top;\n",
       "    }\n",
       "\n",
       "    .dataframe thead th {\n",
       "        text-align: right;\n",
       "    }\n",
       "</style>\n",
       "<table border=\"1\" class=\"dataframe\">\n",
       "  <thead>\n",
       "    <tr style=\"text-align: right;\">\n",
       "      <th></th>\n",
       "      <th>lon</th>\n",
       "      <th>lat</th>\n",
       "      <th>ve</th>\n",
       "      <th>vn</th>\n",
       "    </tr>\n",
       "  </thead>\n",
       "  <tbody>\n",
       "    <tr>\n",
       "      <th>1</th>\n",
       "      <td>274.772</td>\n",
       "      <td>-1.242</td>\n",
       "      <td>-49.214</td>\n",
       "      <td>36.778</td>\n",
       "    </tr>\n",
       "    <tr>\n",
       "      <th>2</th>\n",
       "      <td>274.657</td>\n",
       "      <td>-1.176</td>\n",
       "      <td>-57.514</td>\n",
       "      <td>28.439</td>\n",
       "    </tr>\n",
       "    <tr>\n",
       "      <th>3</th>\n",
       "      <td>274.548</td>\n",
       "      <td>-1.131</td>\n",
       "      <td>-48.625</td>\n",
       "      <td>28.747</td>\n",
       "    </tr>\n",
       "    <tr>\n",
       "      <th>4</th>\n",
       "      <td>274.468</td>\n",
       "      <td>-1.064</td>\n",
       "      <td>-50.787</td>\n",
       "      <td>34.399</td>\n",
       "    </tr>\n",
       "    <tr>\n",
       "      <th>5</th>\n",
       "      <td>274.351</td>\n",
       "      <td>-0.997</td>\n",
       "      <td>-59.573</td>\n",
       "      <td>34.328</td>\n",
       "    </tr>\n",
       "    <tr>\n",
       "      <th>...</th>\n",
       "      <td>...</td>\n",
       "      <td>...</td>\n",
       "      <td>...</td>\n",
       "      <td>...</td>\n",
       "    </tr>\n",
       "    <tr>\n",
       "      <th>511995</th>\n",
       "      <td>94.624</td>\n",
       "      <td>-25.758</td>\n",
       "      <td>7.851</td>\n",
       "      <td>-13.752</td>\n",
       "    </tr>\n",
       "    <tr>\n",
       "      <th>511996</th>\n",
       "      <td>94.610</td>\n",
       "      <td>-25.789</td>\n",
       "      <td>-7.761</td>\n",
       "      <td>-18.607</td>\n",
       "    </tr>\n",
       "    <tr>\n",
       "      <th>511997</th>\n",
       "      <td>94.591</td>\n",
       "      <td>-25.830</td>\n",
       "      <td>-5.754</td>\n",
       "      <td>-17.724</td>\n",
       "    </tr>\n",
       "    <tr>\n",
       "      <th>511998</th>\n",
       "      <td>94.585</td>\n",
       "      <td>-25.858</td>\n",
       "      <td>-10.730</td>\n",
       "      <td>-13.769</td>\n",
       "    </tr>\n",
       "    <tr>\n",
       "      <th>511999</th>\n",
       "      <td>94.545</td>\n",
       "      <td>-25.884</td>\n",
       "      <td>-20.976</td>\n",
       "      <td>-12.768</td>\n",
       "    </tr>\n",
       "  </tbody>\n",
       "</table>\n",
       "<p>35736560 rows × 4 columns</p>\n",
       "</div>"
      ],
      "text/plain": [
       "            lon     lat      ve      vn\n",
       "1       274.772  -1.242 -49.214  36.778\n",
       "2       274.657  -1.176 -57.514  28.439\n",
       "3       274.548  -1.131 -48.625  28.747\n",
       "4       274.468  -1.064 -50.787  34.399\n",
       "5       274.351  -0.997 -59.573  34.328\n",
       "...         ...     ...     ...     ...\n",
       "511995   94.624 -25.758   7.851 -13.752\n",
       "511996   94.610 -25.789  -7.761 -18.607\n",
       "511997   94.591 -25.830  -5.754 -17.724\n",
       "511998   94.585 -25.858 -10.730 -13.769\n",
       "511999   94.545 -25.884 -20.976 -12.768\n",
       "\n",
       "[35736560 rows x 4 columns]"
      ]
     },
     "execution_count": 35,
     "metadata": {},
     "output_type": "execute_result"
    }
   ],
   "source": [
    "df = df[['lon', 'lat', 've', 'vn']].dropna().compute()\n",
    "df"
   ]
  },
  {
   "cell_type": "code",
   "execution_count": 36,
   "metadata": {},
   "outputs": [],
   "source": [
    "from xhistogram.core import histogram\n",
    "import dask.array as dsa"
   ]
  },
  {
   "cell_type": "code",
   "execution_count": 37,
   "metadata": {},
   "outputs": [],
   "source": [
    "lon = dsa.from_array(df.lon.values, chunks=4_000_000)\n",
    "lat = dsa.from_array(df.lat.values, chunks=4_000_000)\n",
    "u = dsa.from_array(df.ve.values, chunks=4_000_000)\n",
    "v = dsa.from_array(df.vn.values, chunks=4_000_000)"
   ]
  },
  {
   "cell_type": "code",
   "execution_count": 38,
   "metadata": {},
   "outputs": [
    {
     "data": {
      "text/html": [
       "<table>\n",
       "<tr>\n",
       "<td>\n",
       "<table>\n",
       "  <thead>\n",
       "    <tr><td> </td><th> Array </th><th> Chunk </th></tr>\n",
       "  </thead>\n",
       "  <tbody>\n",
       "    <tr><th> Bytes </th><td> 285.89 MB </td> <td> 32.00 MB </td></tr>\n",
       "    <tr><th> Shape </th><td> (35736560,) </td> <td> (4000000,) </td></tr>\n",
       "    <tr><th> Count </th><td> 10 Tasks </td><td> 9 Chunks </td></tr>\n",
       "    <tr><th> Type </th><td> float64 </td><td> numpy.ndarray </td></tr>\n",
       "  </tbody>\n",
       "</table>\n",
       "</td>\n",
       "<td>\n",
       "<svg width=\"170\" height=\"75\" style=\"stroke:rgb(0,0,0);stroke-width:1\" >\n",
       "\n",
       "  <!-- Horizontal lines -->\n",
       "  <line x1=\"0\" y1=\"0\" x2=\"120\" y2=\"0\" style=\"stroke-width:2\" />\n",
       "  <line x1=\"0\" y1=\"25\" x2=\"120\" y2=\"25\" style=\"stroke-width:2\" />\n",
       "\n",
       "  <!-- Vertical lines -->\n",
       "  <line x1=\"0\" y1=\"0\" x2=\"0\" y2=\"25\" style=\"stroke-width:2\" />\n",
       "  <line x1=\"13\" y1=\"0\" x2=\"13\" y2=\"25\" />\n",
       "  <line x1=\"26\" y1=\"0\" x2=\"26\" y2=\"25\" />\n",
       "  <line x1=\"40\" y1=\"0\" x2=\"40\" y2=\"25\" />\n",
       "  <line x1=\"53\" y1=\"0\" x2=\"53\" y2=\"25\" />\n",
       "  <line x1=\"67\" y1=\"0\" x2=\"67\" y2=\"25\" />\n",
       "  <line x1=\"80\" y1=\"0\" x2=\"80\" y2=\"25\" />\n",
       "  <line x1=\"94\" y1=\"0\" x2=\"94\" y2=\"25\" />\n",
       "  <line x1=\"107\" y1=\"0\" x2=\"107\" y2=\"25\" />\n",
       "  <line x1=\"120\" y1=\"0\" x2=\"120\" y2=\"25\" style=\"stroke-width:2\" />\n",
       "\n",
       "  <!-- Colored Rectangle -->\n",
       "  <polygon points=\"0.000000,0.000000 120.000000,0.000000 120.000000,25.412617 0.000000,25.412617\" style=\"fill:#ECB172A0;stroke-width:0\"/>\n",
       "\n",
       "  <!-- Text -->\n",
       "  <text x=\"60.000000\" y=\"45.412617\" font-size=\"1.0rem\" font-weight=\"100\" text-anchor=\"middle\" >35736560</text>\n",
       "  <text x=\"140.000000\" y=\"12.706308\" font-size=\"1.0rem\" font-weight=\"100\" text-anchor=\"middle\" transform=\"rotate(0,140.000000,12.706308)\">1</text>\n",
       "</svg>\n",
       "</td>\n",
       "</tr>\n",
       "</table>"
      ],
      "text/plain": [
       "dask.array<array, shape=(35736560,), dtype=float64, chunksize=(4000000,), chunktype=numpy.ndarray>"
      ]
     },
     "execution_count": 38,
     "metadata": {},
     "output_type": "execute_result"
    }
   ],
   "source": [
    "lon"
   ]
  },
  {
   "cell_type": "code",
   "execution_count": 44,
   "metadata": {},
   "outputs": [
    {
     "data": {
      "text/plain": [
       "array([[  0,   0,   0, ...,   0,   0,   0],\n",
       "       [  0,   0,   0, ...,   0,   0,   0],\n",
       "       [  0,   0,   0, ...,   0,   0,   0],\n",
       "       ...,\n",
       "       [176, 391, 355, ..., 109, 273, 282],\n",
       "       [222, 272, 423, ..., 137, 196, 217],\n",
       "       [ 79,  76, 199, ...,  18,  18,  89]])"
      ]
     },
     "execution_count": 44,
     "metadata": {},
     "output_type": "execute_result"
    }
   ],
   "source": [
    "lon_bins = np.arange(0, 361, 1)\n",
    "lat_bins = np.arange(-80, 81, 1)\n",
    "\n",
    "n_obs = histogram(lat, lon, bins=[lat_bins, lon_bins]).compute()\n",
    "n_obs"
   ]
  },
  {
   "cell_type": "code",
   "execution_count": 52,
   "metadata": {},
   "outputs": [],
   "source": [
    "lon_c = 0.5*(lon_bins[:-1] + lon_bins[1:])\n",
    "lat_c = 0.5*(lat_bins[:-1] + lat_bins[1:])"
   ]
  },
  {
   "cell_type": "code",
   "execution_count": 46,
   "metadata": {},
   "outputs": [
    {
     "name": "stderr",
     "output_type": "stream",
     "text": [
      "/srv/conda/envs/notebook/lib/python3.7/site-packages/ipykernel_launcher.py:1: RuntimeWarning: invalid value encountered in true_divide\n",
      "  \"\"\"Entry point for launching an IPython kernel.\n",
      "/srv/conda/envs/notebook/lib/python3.7/site-packages/ipykernel_launcher.py:2: RuntimeWarning: invalid value encountered in true_divide\n",
      "  \n",
      "/srv/conda/envs/notebook/lib/python3.7/site-packages/ipykernel_launcher.py:3: RuntimeWarning: invalid value encountered in true_divide\n",
      "  This is separate from the ipykernel package so we can avoid doing imports until\n",
      "/srv/conda/envs/notebook/lib/python3.7/site-packages/ipykernel_launcher.py:4: RuntimeWarning: invalid value encountered in true_divide\n",
      "  after removing the cwd from sys.path.\n"
     ]
    }
   ],
   "source": [
    "u_binned = histogram(lat, lon, bins=[lat_bins, lon_bins], weights=u).compute()/n_obs\n",
    "v_binned = histogram(lat, lon, bins=[lat_bins, lon_bins], weights=v).compute()/n_obs\n",
    "u2_binned = histogram(lat, lon, bins=[lat_bins, lon_bins], weights=u**2).compute()/n_obs\n",
    "v2_binned = histogram(lat, lon, bins=[lat_bins, lon_bins], weights=v**2).compute()/n_obs"
   ]
  },
  {
   "cell_type": "code",
   "execution_count": 47,
   "metadata": {},
   "outputs": [],
   "source": [
    "eke_drifters = 0.5 * (u2_binned - u_binned**2 + v2_binned - v_binned**2)"
   ]
  },
  {
   "cell_type": "code",
   "execution_count": 57,
   "metadata": {},
   "outputs": [
    {
     "data": {
      "text/plain": [
       "<xarray.Dataset>\n",
       "Dimensions:   (lat: 160, lat_bins: 161, lon: 360, lon_bins: 361)\n",
       "Coordinates:\n",
       "  * lon       (lon) float64 0.5 1.5 2.5 3.5 4.5 ... 356.5 357.5 358.5 359.5\n",
       "  * lat       (lat) float64 -79.5 -78.5 -77.5 -76.5 ... 76.5 77.5 78.5 79.5\n",
       "  * lon_bins  (lon_bins) int64 0 1 2 3 4 5 6 7 ... 354 355 356 357 358 359 360\n",
       "  * lat_bins  (lat_bins) int64 -80 -79 -78 -77 -76 -75 -74 ... 75 76 77 78 79 80\n",
       "Data variables:\n",
       "    EKE       (lat, lon) float64 nan nan nan nan nan ... 215.8 273.0 207.0 266.0\n",
       "    n_obs     (lat, lon) int64 0 0 0 0 0 0 0 0 0 0 ... 17 53 27 64 35 7 18 18 89"
      ]
     },
     "execution_count": 57,
     "metadata": {},
     "output_type": "execute_result"
    }
   ],
   "source": [
    "ds = xr.Dataset({'EKE': (('lat', 'lon'), eke_drifters),\n",
    "                 'n_obs': (('lat', 'lon'), n_obs)},\n",
    "               coords={'lon': lon_c, 'lat': lat_c, \n",
    "                       'lon_bins': lon_bins, 'lat_bins': lat_bins})\n",
    "ds"
   ]
  },
  {
   "cell_type": "code",
   "execution_count": 58,
   "metadata": {},
   "outputs": [],
   "source": [
    "ds.to_netcdf('data/EKE_gdp.nc')"
   ]
  }
 ],
 "metadata": {
  "kernelspec": {
   "display_name": "Python 3",
   "language": "python",
   "name": "python3"
  },
  "language_info": {
   "codemirror_mode": {
    "name": "ipython",
    "version": 3
   },
   "file_extension": ".py",
   "mimetype": "text/x-python",
   "name": "python",
   "nbconvert_exporter": "python",
   "pygments_lexer": "ipython3",
   "version": "3.7.3"
  }
 },
 "nbformat": 4,
 "nbformat_minor": 4
}
