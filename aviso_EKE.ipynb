{
 "cells": [
  {
   "cell_type": "code",
   "execution_count": 1,
   "metadata": {},
   "outputs": [],
   "source": [
    "import numpy as np\n",
    "import xarray as xr\n",
    "import matplotlib.pyplot as plt\n",
    "import gcsfs\n",
    "plt.rcParams['figure.figsize'] = (15,10)\n",
    "%matplotlib inline"
   ]
  },
  {
   "cell_type": "code",
   "execution_count": 2,
   "metadata": {},
   "outputs": [],
   "source": [
    "import intake\n",
    "cat = intake.Catalog(\"https://raw.githubusercontent.com/pangeo-data/pangeo-datastore/master/intake-catalogs/ocean.yaml\")\n",
    "ds = cat[\"sea_surface_height\"].to_dask()"
   ]
  },
  {
   "cell_type": "code",
   "execution_count": 3,
   "metadata": {},
   "outputs": [
    {
     "data": {
      "text/plain": [
       "<xarray.Dataset>\n",
       "Dimensions:    (latitude: 720, longitude: 1440, nv: 2, time: 8901)\n",
       "Coordinates:\n",
       "    crs        int32 ...\n",
       "    lat_bnds   (time, latitude, nv) float32 dask.array<chunksize=(5, 720, 2), meta=np.ndarray>\n",
       "  * latitude   (latitude) float32 -89.875 -89.625 -89.375 ... 89.625 89.875\n",
       "    lon_bnds   (longitude, nv) float32 dask.array<chunksize=(1440, 2), meta=np.ndarray>\n",
       "  * longitude  (longitude) float32 0.125 0.375 0.625 ... 359.375 359.625 359.875\n",
       "  * nv         (nv) int32 0 1\n",
       "  * time       (time) datetime64[ns] 1993-01-01 1993-01-02 ... 2017-05-15\n",
       "Data variables:\n",
       "    adt        (time, latitude, longitude) float64 dask.array<chunksize=(5, 720, 1440), meta=np.ndarray>\n",
       "    err        (time, latitude, longitude) float64 dask.array<chunksize=(5, 720, 1440), meta=np.ndarray>\n",
       "    sla        (time, latitude, longitude) float64 dask.array<chunksize=(5, 720, 1440), meta=np.ndarray>\n",
       "    ugos       (time, latitude, longitude) float64 dask.array<chunksize=(5, 720, 1440), meta=np.ndarray>\n",
       "    ugosa      (time, latitude, longitude) float64 dask.array<chunksize=(5, 720, 1440), meta=np.ndarray>\n",
       "    vgos       (time, latitude, longitude) float64 dask.array<chunksize=(5, 720, 1440), meta=np.ndarray>\n",
       "    vgosa      (time, latitude, longitude) float64 dask.array<chunksize=(5, 720, 1440), meta=np.ndarray>\n",
       "Attributes:\n",
       "    Conventions:                     CF-1.6\n",
       "    Metadata_Conventions:            Unidata Dataset Discovery v1.0\n",
       "    cdm_data_type:                   Grid\n",
       "    comment:                         Sea Surface Height measured by Altimetry...\n",
       "    contact:                         servicedesk.cmems@mercator-ocean.eu\n",
       "    creator_email:                   servicedesk.cmems@mercator-ocean.eu\n",
       "    creator_name:                    CMEMS - Sea Level Thematic Assembly Center\n",
       "    creator_url:                     http://marine.copernicus.eu\n",
       "    date_created:                    2014-02-26T16:09:13Z\n",
       "    date_issued:                     2014-01-06T00:00:00Z\n",
       "    date_modified:                   2015-11-10T19:42:51Z\n",
       "    geospatial_lat_max:              89.875\n",
       "    geospatial_lat_min:              -89.875\n",
       "    geospatial_lat_resolution:       0.25\n",
       "    geospatial_lat_units:            degrees_north\n",
       "    geospatial_lon_max:              359.875\n",
       "    geospatial_lon_min:              0.125\n",
       "    geospatial_lon_resolution:       0.25\n",
       "    geospatial_lon_units:            degrees_east\n",
       "    geospatial_vertical_max:         0.0\n",
       "    geospatial_vertical_min:         0.0\n",
       "    geospatial_vertical_positive:    down\n",
       "    geospatial_vertical_resolution:  point\n",
       "    geospatial_vertical_units:       m\n",
       "    history:                         2014-02-26T16:09:13Z: created by DUACS D...\n",
       "    institution:                     CLS, CNES\n",
       "    keywords:                        Oceans > Ocean Topography > Sea Surface ...\n",
       "    keywords_vocabulary:             NetCDF COARDS Climate and Forecast Stand...\n",
       "    license:                         http://marine.copernicus.eu/web/27-servi...\n",
       "    platform:                        ERS-1, Topex/Poseidon\n",
       "    processing_level:                L4\n",
       "    product_version:                 5.0\n",
       "    project:                         COPERNICUS MARINE ENVIRONMENT MONITORING...\n",
       "    references:                      http://marine.copernicus.eu\n",
       "    source:                          Altimetry measurements\n",
       "    ssalto_duacs_comment:            The reference mission used for the altim...\n",
       "    standard_name_vocabulary:        NetCDF Climate and Forecast (CF) Metadat...\n",
       "    summary:                         SSALTO/DUACS Delayed-Time Level-4 sea su...\n",
       "    time_coverage_duration:          P1D\n",
       "    time_coverage_end:               1993-01-01T12:00:00Z\n",
       "    time_coverage_resolution:        P1D\n",
       "    time_coverage_start:             1992-12-31T12:00:00Z\n",
       "    title:                           DT merged all satellites Global Ocean Gr..."
      ]
     },
     "execution_count": 3,
     "metadata": {},
     "output_type": "execute_result"
    }
   ],
   "source": [
    "ds"
   ]
  },
  {
   "cell_type": "code",
   "execution_count": 4,
   "metadata": {},
   "outputs": [
    {
     "data": {
      "text/html": [
       "<table style=\"border: 2px solid white;\">\n",
       "<tr>\n",
       "<td style=\"vertical-align: top; border: 0px solid white\">\n",
       "<h3 style=\"text-align: left;\">Client</h3>\n",
       "<ul style=\"text-align: left; list-style: none; margin: 0; padding: 0;\">\n",
       "  <li><b>Scheduler: </b>tcp://10.32.5.63:44945</li>\n",
       "  <li><b>Dashboard: </b><a href='/user/0000-0001-5999-4917/proxy/8787/status' target='_blank'>/user/0000-0001-5999-4917/proxy/8787/status</a>\n",
       "</ul>\n",
       "</td>\n",
       "<td style=\"vertical-align: top; border: 0px solid white\">\n",
       "<h3 style=\"text-align: left;\">Cluster</h3>\n",
       "<ul style=\"text-align: left; list-style:none; margin: 0; padding: 0;\">\n",
       "  <li><b>Workers: </b>30</li>\n",
       "  <li><b>Cores: </b>60</li>\n",
       "  <li><b>Memory: </b>345.00 GB</li>\n",
       "</ul>\n",
       "</td>\n",
       "</tr>\n",
       "</table>"
      ],
      "text/plain": [
       "<Client: 'tcp://10.32.5.63:44945' processes=30 threads=60, memory=345.00 GB>"
      ]
     },
     "execution_count": 4,
     "metadata": {},
     "output_type": "execute_result"
    }
   ],
   "source": [
    "from dask.distributed import Client\n",
    "\n",
    "client = Client(\"tcp://10.32.5.63:44945\")\n",
    "client"
   ]
  },
  {
   "cell_type": "code",
   "execution_count": null,
   "metadata": {},
   "outputs": [],
   "source": [
    "u_anom2_mean = (ds.ugosa**2).mean(dim='time').load()"
   ]
  },
  {
   "cell_type": "code",
   "execution_count": null,
   "metadata": {},
   "outputs": [],
   "source": [
    "v_anom2_mean = (ds.vgosa**2).mean(dim='time').load()"
   ]
  },
  {
   "cell_type": "code",
   "execution_count": 7,
   "metadata": {},
   "outputs": [
    {
     "data": {
      "text/plain": [
       "<xarray.DataArray (latitude: 720, longitude: 1440)>\n",
       "array([[nan, nan, nan, ..., nan, nan, nan],\n",
       "       [nan, nan, nan, ..., nan, nan, nan],\n",
       "       [nan, nan, nan, ..., nan, nan, nan],\n",
       "       ...,\n",
       "       [nan, nan, nan, ..., nan, nan, nan],\n",
       "       [nan, nan, nan, ..., nan, nan, nan],\n",
       "       [nan, nan, nan, ..., nan, nan, nan]])\n",
       "Coordinates:\n",
       "    crs        int32 -2147483647\n",
       "  * latitude   (latitude) float32 -89.875 -89.625 -89.375 ... 89.625 89.875\n",
       "  * longitude  (longitude) float32 0.125 0.375 0.625 ... 359.375 359.625 359.875"
      ]
     },
     "execution_count": 7,
     "metadata": {},
     "output_type": "execute_result"
    }
   ],
   "source": [
    "EKE_aviso = 0.5 * (u_anom2_mean + v_anom2_mean)\n",
    "EKE_aviso"
   ]
  },
  {
   "cell_type": "code",
   "execution_count": 8,
   "metadata": {},
   "outputs": [],
   "source": [
    "EKE_aviso.to_netcdf('data/EKE_aviso.nc')"
   ]
  }
 ],
 "metadata": {
  "kernelspec": {
   "display_name": "Python 3",
   "language": "python",
   "name": "python3"
  },
  "language_info": {
   "codemirror_mode": {
    "name": "ipython",
    "version": 3
   },
   "file_extension": ".py",
   "mimetype": "text/x-python",
   "name": "python",
   "nbconvert_exporter": "python",
   "pygments_lexer": "ipython3",
   "version": "3.7.3"
  }
 },
 "nbformat": 4,
 "nbformat_minor": 4
}
