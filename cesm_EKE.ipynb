{
 "cells": [
  {
   "cell_type": "code",
   "execution_count": 1,
   "metadata": {},
   "outputs": [],
   "source": [
    "import numpy as np\n",
    "import xarray as xr\n",
    "import matplotlib.pyplot as plt\n",
    "import gcsfs\n",
    "plt.rcParams['figure.figsize'] = (15,10)\n",
    "%matplotlib inline"
   ]
  },
  {
   "cell_type": "code",
   "execution_count": 12,
   "metadata": {},
   "outputs": [
    {
     "data": {
      "text/plain": [
       "<xarray.Dataset>\n",
       "Dimensions:         (month: 12, nlat: 2400, nlon: 3600, z_t: 62, z_t_150m: 15, z_w: 62, z_w_bot: 62, z_w_top: 62)\n",
       "Coordinates:\n",
       "  * month           (month) int64 1 2 3 4 5 6 7 8 9 10 11 12\n",
       "  * z_t             (z_t) float32 500.0 1500.0 2500.0 ... 562499.06 587499.06\n",
       "  * z_t_150m        (z_t_150m) float32 500.0 1500.0 2500.0 ... 13500.0 14500.0\n",
       "  * z_w             (z_w) float32 0.0 1000.0 2000.0 ... 549999.06 574999.06\n",
       "  * z_w_bot         (z_w_bot) float32 1000.0 2000.0 ... 574999.06 599999.06\n",
       "  * z_w_top         (z_w_top) float32 0.0 1000.0 2000.0 ... 549999.06 574999.06\n",
       "Dimensions without coordinates: nlat, nlon\n",
       "Data variables:\n",
       "    HMXL_2          (month, nlat, nlon) float32 dask.array<chunksize=(1, 2400, 3600), meta=np.ndarray>\n",
       "    HMXL_2_squared  (month, nlat, nlon) float32 dask.array<chunksize=(1, 2400, 3600), meta=np.ndarray>\n",
       "    SFWF_2          (month, nlat, nlon) float32 dask.array<chunksize=(1, 2400, 3600), meta=np.ndarray>\n",
       "    SFWF_2_squared  (month, nlat, nlon) float32 dask.array<chunksize=(1, 2400, 3600), meta=np.ndarray>\n",
       "    SHF_2           (month, nlat, nlon) float32 dask.array<chunksize=(1, 2400, 3600), meta=np.ndarray>\n",
       "    SHF_2_squared   (month, nlat, nlon) float32 dask.array<chunksize=(1, 2400, 3600), meta=np.ndarray>\n",
       "    SSH_2           (month, nlat, nlon) float32 dask.array<chunksize=(1, 2400, 3600), meta=np.ndarray>\n",
       "    SSH_2_squared   (month, nlat, nlon) float32 dask.array<chunksize=(1, 2400, 3600), meta=np.ndarray>\n",
       "    SSS             (month, nlat, nlon) float32 dask.array<chunksize=(1, 2400, 3600), meta=np.ndarray>\n",
       "    SSS_squared     (month, nlat, nlon) float32 dask.array<chunksize=(1, 2400, 3600), meta=np.ndarray>\n",
       "    SST             (month, nlat, nlon) float32 dask.array<chunksize=(1, 2400, 3600), meta=np.ndarray>\n",
       "    SST_squared     (month, nlat, nlon) float32 dask.array<chunksize=(1, 2400, 3600), meta=np.ndarray>\n",
       "    TAUX_2          (month, nlat, nlon) float32 dask.array<chunksize=(1, 2400, 3600), meta=np.ndarray>\n",
       "    TAUX_2_squared  (month, nlat, nlon) float32 dask.array<chunksize=(1, 2400, 3600), meta=np.ndarray>\n",
       "    TAUY_2          (month, nlat, nlon) float32 dask.array<chunksize=(1, 2400, 3600), meta=np.ndarray>\n",
       "    TAUY_2_squared  (month, nlat, nlon) float32 dask.array<chunksize=(1, 2400, 3600), meta=np.ndarray>\n",
       "    U1_1            (month, nlat, nlon) float32 dask.array<chunksize=(1, 2400, 3600), meta=np.ndarray>\n",
       "    U1_1_squared    (month, nlat, nlon) float32 dask.array<chunksize=(1, 2400, 3600), meta=np.ndarray>\n",
       "    V1_1            (month, nlat, nlon) float32 dask.array<chunksize=(1, 2400, 3600), meta=np.ndarray>\n",
       "    V1_1_squared    (month, nlat, nlon) float32 dask.array<chunksize=(1, 2400, 3600), meta=np.ndarray>"
      ]
     },
     "execution_count": 12,
     "metadata": {},
     "output_type": "execute_result"
    }
   ],
   "source": [
    "import gcsfs\n",
    "gcs = gcsfs.GCSFileSystem(token='anon')\n",
    "cesm_base = 'pangeo-data/cesm/hybrid_v5_rel04_BC5_ne120_t12_pop62-first_ten_years-monthly-climatology'\n",
    "ds_cesm = xr.open_zarr(gcs.get_mapper(cesm_base))\n",
    "ds_cesm"
   ]
  },
  {
   "cell_type": "code",
   "execution_count": 14,
   "metadata": {},
   "outputs": [
    {
     "data": {
      "text/plain": [
       "<xarray.DataArray (nlat: 2400, nlon: 3600)>\n",
       "array([[nan, nan, nan, ..., nan, nan, nan],\n",
       "       [nan, nan, nan, ..., nan, nan, nan],\n",
       "       [nan, nan, nan, ..., nan, nan, nan],\n",
       "       ...,\n",
       "       [nan, nan, nan, ..., nan, nan, nan],\n",
       "       [nan, nan, nan, ..., nan, nan, nan],\n",
       "       [nan, nan, nan, ..., nan, nan, nan]], dtype=float32)\n",
       "Dimensions without coordinates: nlat, nlon"
      ]
     },
     "execution_count": 14,
     "metadata": {},
     "output_type": "execute_result"
    }
   ],
   "source": [
    "eke_cesm = 0.5 * (ds_cesm.U1_1_squared - ds_cesm.U1_1**2\n",
    "                 +ds_cesm.V1_1_squared - ds_cesm.V1_1**2\n",
    "                 ).mean(dim='month').load()\n",
    "eke_cesm"
   ]
  },
  {
   "cell_type": "code",
   "execution_count": null,
   "metadata": {},
   "outputs": [],
   "source": [
    "eke_cesm.to_netcdf('../EKE_comparison/data/eke_cesm.nc')"
   ]
  }
 ],
 "metadata": {
  "kernelspec": {
   "display_name": "Python 3",
   "language": "python",
   "name": "python3"
  },
  "language_info": {
   "codemirror_mode": {
    "name": "ipython",
    "version": 3
   },
   "file_extension": ".py",
   "mimetype": "text/x-python",
   "name": "python",
   "nbconvert_exporter": "python",
   "pygments_lexer": "ipython3",
   "version": "3.7.3"
  }
 },
 "nbformat": 4,
 "nbformat_minor": 4
}
